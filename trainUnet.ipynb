{
 "cells": [
  {
   "cell_type": "code",
   "execution_count": 6,
   "metadata": {
    "scrolled": true
   },
   "outputs": [],
   "source": [
    "from model import *\n",
    "from data import *"
   ]
  },
  {
   "cell_type": "markdown",
   "metadata": {},
   "source": [
    "## Train your Unet with membrane data\n",
    "membrane data is in folder membrane/, it is a binary classification task.\n",
    "\n",
    "The input shape of image and mask are the same :(batch_size,rows,cols,channel = 1)"
   ]
  },
  {
   "cell_type": "markdown",
   "metadata": {},
   "source": [
    "### Train with data generator"
   ]
  },
  {
   "cell_type": "code",
   "execution_count": 7,
   "metadata": {},
   "outputs": [
    {
     "name": "stdout",
     "output_type": "stream",
     "text": [
      "Epoch 1/5\n",
      "Found 23 images belonging to 1 classes.\n",
      "Found 23 images belonging to 1 classes.\n",
      "2000/2000 [==============================] - 660s 330ms/step - loss: 0.6527 - acc: 0.9279\n",
      "\n",
      "Epoch 00001: loss improved from inf to 0.65265, saving model to unet_membrane.hdf5\n",
      "Epoch 2/5\n",
      "2000/2000 [==============================] - 657s 328ms/step - loss: 0.5798 - acc: 0.9278\n",
      "\n",
      "Epoch 00002: loss improved from 0.65265 to 0.57976, saving model to unet_membrane.hdf5\n",
      "Epoch 3/5\n",
      "2000/2000 [==============================] - 657s 328ms/step - loss: 0.5172 - acc: 0.9278\n",
      "\n",
      "Epoch 00003: loss improved from 0.57976 to 0.51719, saving model to unet_membrane.hdf5\n",
      "Epoch 4/5\n",
      "2000/2000 [==============================] - 657s 329ms/step - loss: 0.4635 - acc: 0.9279\n",
      "\n",
      "Epoch 00004: loss improved from 0.51719 to 0.46345, saving model to unet_membrane.hdf5\n",
      "Epoch 5/5\n",
      "2000/2000 [==============================] - 658s 329ms/step - loss: 0.4180 - acc: 0.9278\n",
      "\n",
      "Epoch 00005: loss improved from 0.46345 to 0.41789, saving model to unet_membrane.hdf5\n"
     ]
    },
    {
     "data": {
      "text/plain": [
       "<keras.callbacks.History at 0x7f4d2407fa20>"
      ]
     },
     "execution_count": 7,
     "metadata": {},
     "output_type": "execute_result"
    }
   ],
   "source": [
    "data_gen_args = dict(rotation_range=0.2,\n",
    "                    width_shift_range=0.05,\n",
    "                    height_shift_range=0.05,\n",
    "                    shear_range=0.05,\n",
    "                    zoom_range=0.05,\n",
    "                    horizontal_flip=True,\n",
    "                    fill_mode='nearest')\n",
    "myGene = trainGenerator(2,'data/membrane/train','image','label',data_gen_args,save_to_dir = None)\n",
    "model = unet()\n",
    "model_checkpoint = ModelCheckpoint('unet_membrane.hdf5', monitor='loss',verbose=1, save_best_only=True)\n",
    "model.fit_generator(myGene,steps_per_epoch=2000,epochs=5,callbacks=[model_checkpoint])"
   ]
  },
  {
   "cell_type": "markdown",
   "metadata": {},
   "source": [
    "### Train with npy file"
   ]
  },
  {
   "cell_type": "code",
   "execution_count": 8,
   "metadata": {},
   "outputs": [
    {
     "name": "stderr",
     "output_type": "stream",
     "text": [
      "/usr/local/lib/python3.6/dist-packages/ipykernel_launcher.py:2: UserWarning: The `nb_epoch` argument in `fit` has been renamed `epochs`.\n",
      "  \n"
     ]
    },
    {
     "name": "stdout",
     "output_type": "stream",
     "text": [
      "Train on 36 samples, validate on 10 samples\n",
      "Epoch 1/10\n",
      "36/36 [==============================] - 7s 191ms/step - loss: 0.3974 - acc: 0.9279 - val_loss: 0.3976 - val_acc: 0.9275\n",
      "\n",
      "Epoch 00001: loss improved from 0.41789 to 0.39740, saving model to unet_membrane.hdf5\n",
      "Epoch 2/10\n",
      "36/36 [==============================] - 7s 185ms/step - loss: 0.3971 - acc: 0.9279 - val_loss: 0.3973 - val_acc: 0.9275\n",
      "\n",
      "Epoch 00002: loss improved from 0.39740 to 0.39706, saving model to unet_membrane.hdf5\n",
      "Epoch 3/10\n",
      "36/36 [==============================] - 7s 184ms/step - loss: 0.3967 - acc: 0.9279 - val_loss: 0.3970 - val_acc: 0.9275\n",
      "\n",
      "Epoch 00003: loss improved from 0.39706 to 0.39672, saving model to unet_membrane.hdf5\n",
      "Epoch 4/10\n",
      "36/36 [==============================] - 7s 185ms/step - loss: 0.3964 - acc: 0.9279 - val_loss: 0.3966 - val_acc: 0.9275\n",
      "\n",
      "Epoch 00004: loss improved from 0.39672 to 0.39638, saving model to unet_membrane.hdf5\n",
      "Epoch 5/10\n",
      "36/36 [==============================] - 7s 185ms/step - loss: 0.3960 - acc: 0.9279 - val_loss: 0.3963 - val_acc: 0.9275\n",
      "\n",
      "Epoch 00005: loss improved from 0.39638 to 0.39603, saving model to unet_membrane.hdf5\n",
      "Epoch 6/10\n",
      "36/36 [==============================] - 7s 185ms/step - loss: 0.3957 - acc: 0.9279 - val_loss: 0.3959 - val_acc: 0.9275\n",
      "\n",
      "Epoch 00006: loss improved from 0.39603 to 0.39569, saving model to unet_membrane.hdf5\n",
      "Epoch 7/10\n",
      "36/36 [==============================] - 7s 185ms/step - loss: 0.3954 - acc: 0.9279 - val_loss: 0.3956 - val_acc: 0.9275\n",
      "\n",
      "Epoch 00007: loss improved from 0.39569 to 0.39535, saving model to unet_membrane.hdf5\n",
      "Epoch 8/10\n",
      "36/36 [==============================] - 7s 185ms/step - loss: 0.3950 - acc: 0.9279 - val_loss: 0.3953 - val_acc: 0.9275\n",
      "\n",
      "Epoch 00008: loss improved from 0.39535 to 0.39502, saving model to unet_membrane.hdf5\n",
      "Epoch 9/10\n",
      "36/36 [==============================] - 7s 185ms/step - loss: 0.3947 - acc: 0.9279 - val_loss: 0.3949 - val_acc: 0.9275\n",
      "\n",
      "Epoch 00009: loss improved from 0.39502 to 0.39468, saving model to unet_membrane.hdf5\n",
      "Epoch 10/10\n",
      "36/36 [==============================] - 7s 185ms/step - loss: 0.3943 - acc: 0.9279 - val_loss: 0.3946 - val_acc: 0.9275\n",
      "\n",
      "Epoch 00010: loss improved from 0.39468 to 0.39434, saving model to unet_membrane.hdf5\n"
     ]
    },
    {
     "data": {
      "text/plain": [
       "<keras.callbacks.History at 0x7f4d2403b710>"
      ]
     },
     "execution_count": 8,
     "metadata": {},
     "output_type": "execute_result"
    }
   ],
   "source": [
    "imgs_train,imgs_mask_train = geneTrainNpy(\"data/membrane/train/aug/\",\"data/membrane/train/aug/\")\n",
    "model.fit(imgs_train, imgs_mask_train, batch_size=2, nb_epoch=10, verbose=1,validation_split=0.2, shuffle=True, callbacks=[model_checkpoint])"
   ]
  },
  {
   "cell_type": "markdown",
   "metadata": {},
   "source": [
    "### test your model and save predicted results"
   ]
  },
  {
   "cell_type": "code",
   "execution_count": 13,
   "metadata": {},
   "outputs": [
    {
     "name": "stderr",
     "output_type": "stream",
     "text": [
      "/usr/local/lib/python3.6/dist-packages/skimage/transform/_warps.py:84: UserWarning: The default mode, 'constant', will be changed to 'reflect' in skimage 0.15.\n",
      "  warn(\"The default mode, 'constant', will be changed to 'reflect' in \"\n",
      "/usr/local/lib/python3.6/dist-packages/skimage/io/_io.py:132: UserWarning: data/membrane/test/0_predict.png is a low contrast image\n",
      "  warn('%s is a low contrast image' % fname)\n",
      "/usr/local/lib/python3.6/dist-packages/skimage/util/dtype.py:122: UserWarning: Possible precision loss when converting from float32 to uint16\n",
      "  .format(dtypeobj_in, dtypeobj_out))\n",
      "/usr/local/lib/python3.6/dist-packages/skimage/io/_io.py:132: UserWarning: data/membrane/test/1_predict.png is a low contrast image\n",
      "  warn('%s is a low contrast image' % fname)\n",
      "/usr/local/lib/python3.6/dist-packages/skimage/io/_io.py:132: UserWarning: data/membrane/test/2_predict.png is a low contrast image\n",
      "  warn('%s is a low contrast image' % fname)\n",
      "/usr/local/lib/python3.6/dist-packages/skimage/io/_io.py:132: UserWarning: data/membrane/test/3_predict.png is a low contrast image\n",
      "  warn('%s is a low contrast image' % fname)\n",
      "/usr/local/lib/python3.6/dist-packages/skimage/io/_io.py:132: UserWarning: data/membrane/test/4_predict.png is a low contrast image\n",
      "  warn('%s is a low contrast image' % fname)\n",
      "/usr/local/lib/python3.6/dist-packages/skimage/io/_io.py:132: UserWarning: data/membrane/test/5_predict.png is a low contrast image\n",
      "  warn('%s is a low contrast image' % fname)\n",
      "/usr/local/lib/python3.6/dist-packages/skimage/io/_io.py:132: UserWarning: data/membrane/test/6_predict.png is a low contrast image\n",
      "  warn('%s is a low contrast image' % fname)\n",
      "/usr/local/lib/python3.6/dist-packages/skimage/io/_io.py:132: UserWarning: data/membrane/test/7_predict.png is a low contrast image\n",
      "  warn('%s is a low contrast image' % fname)\n",
      "/usr/local/lib/python3.6/dist-packages/skimage/io/_io.py:132: UserWarning: data/membrane/test/8_predict.png is a low contrast image\n",
      "  warn('%s is a low contrast image' % fname)\n",
      "/usr/local/lib/python3.6/dist-packages/skimage/io/_io.py:132: UserWarning: data/membrane/test/9_predict.png is a low contrast image\n",
      "  warn('%s is a low contrast image' % fname)\n",
      "/usr/local/lib/python3.6/dist-packages/skimage/io/_io.py:132: UserWarning: data/membrane/test/10_predict.png is a low contrast image\n",
      "  warn('%s is a low contrast image' % fname)\n",
      "/usr/local/lib/python3.6/dist-packages/skimage/io/_io.py:132: UserWarning: data/membrane/test/11_predict.png is a low contrast image\n",
      "  warn('%s is a low contrast image' % fname)\n",
      "/usr/local/lib/python3.6/dist-packages/skimage/io/_io.py:132: UserWarning: data/membrane/test/12_predict.png is a low contrast image\n",
      "  warn('%s is a low contrast image' % fname)\n",
      "/usr/local/lib/python3.6/dist-packages/skimage/io/_io.py:132: UserWarning: data/membrane/test/13_predict.png is a low contrast image\n",
      "  warn('%s is a low contrast image' % fname)\n",
      "/usr/local/lib/python3.6/dist-packages/skimage/io/_io.py:132: UserWarning: data/membrane/test/14_predict.png is a low contrast image\n",
      "  warn('%s is a low contrast image' % fname)\n",
      "/usr/local/lib/python3.6/dist-packages/skimage/io/_io.py:132: UserWarning: data/membrane/test/15_predict.png is a low contrast image\n",
      "  warn('%s is a low contrast image' % fname)\n",
      "/usr/local/lib/python3.6/dist-packages/skimage/io/_io.py:132: UserWarning: data/membrane/test/16_predict.png is a low contrast image\n",
      "  warn('%s is a low contrast image' % fname)\n",
      "/usr/local/lib/python3.6/dist-packages/skimage/io/_io.py:132: UserWarning: data/membrane/test/17_predict.png is a low contrast image\n",
      "  warn('%s is a low contrast image' % fname)\n",
      "/usr/local/lib/python3.6/dist-packages/skimage/io/_io.py:132: UserWarning: data/membrane/test/18_predict.png is a low contrast image\n",
      "  warn('%s is a low contrast image' % fname)\n",
      "/usr/local/lib/python3.6/dist-packages/skimage/io/_io.py:132: UserWarning: data/membrane/test/19_predict.png is a low contrast image\n",
      "  warn('%s is a low contrast image' % fname)\n",
      "/usr/local/lib/python3.6/dist-packages/skimage/io/_io.py:132: UserWarning: data/membrane/test/20_predict.png is a low contrast image\n",
      "  warn('%s is a low contrast image' % fname)\n",
      "/usr/local/lib/python3.6/dist-packages/skimage/io/_io.py:132: UserWarning: data/membrane/test/21_predict.png is a low contrast image\n",
      "  warn('%s is a low contrast image' % fname)\n",
      "/usr/local/lib/python3.6/dist-packages/skimage/io/_io.py:132: UserWarning: data/membrane/test/22_predict.png is a low contrast image\n",
      "  warn('%s is a low contrast image' % fname)\n"
     ]
    }
   ],
   "source": [
    "testGene = testGenerator(\"data/membrane/test\")\n",
    "model = unet()\n",
    "model.load_weights(\"unet_membrane.hdf5\")\n",
    "results = model.predict_generator(testGene,23,verbose=1)\n",
    "saveResult(\"data/membrane/test\",results)"
   ]
  }
 ],
 "metadata": {
  "kernelspec": {
   "display_name": "Python 3",
   "language": "python",
   "name": "python3"
  },
  "language_info": {
   "codemirror_mode": {
    "name": "ipython",
    "version": 3
   },
   "file_extension": ".py",
   "mimetype": "text/x-python",
   "name": "python",
   "nbconvert_exporter": "python",
   "pygments_lexer": "ipython3",
   "version": "3.6.3"
  }
 },
 "nbformat": 4,
 "nbformat_minor": 2
}
